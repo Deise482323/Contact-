{
  "nbformat": 4,
  "nbformat_minor": 0,
  "metadata": {
    "colab": {
      "provenance": [],
      "toc_visible": true,
      "authorship_tag": "ABX9TyPDoK7aSwJK1Db73sT5m4fP",
      "include_colab_link": true
    },
    "kernelspec": {
      "name": "python3",
      "display_name": "Python 3"
    },
    "language_info": {
      "name": "python"
    }
  },
  "cells": [
    {
      "cell_type": "markdown",
      "metadata": {
        "id": "view-in-github",
        "colab_type": "text"
      },
      "source": [
        "<a href=\"https://colab.research.google.com/github/Deise482323/Contact-/blob/main/Untitled1.ipynb\" target=\"_parent\"><img src=\"https://colab.research.google.com/assets/colab-badge.svg\" alt=\"Open In Colab\"/></a>"
      ]
    },
    {
      "cell_type": "code",
      "execution_count": null,
      "metadata": {
        "colab": {
          "base_uri": "https://localhost:8080/"
        },
        "id": "QO6zweJJ62jt",
        "outputId": "8ae78b4b-3523-4623-9a54-d1007821e615"
      },
      "outputs": [
        {
          "output_type": "stream",
          "name": "stdout",
          "text": [
            "1\n",
            "3.13\n",
            "Python\n",
            "False\n"
          ]
        }
      ],
      "source": [
        "#Variável do tipo inteiro\n",
        "x= 1\n",
        "print (x)\n",
        "#Variável do tipo float\n",
        "y = 3.13\n",
        "print (y)\n",
        "# Variável do tipo String\n",
        "m = 'Python'\n",
        "m = \"Python\"\n",
        "print (m)\n",
        "#Variável tipo lógica\n",
        "w = True\n",
        "y = False\n",
        "print (y)\n"
      ]
    },
    {
      "cell_type": "code",
      "source": [
        "# Calculadora\n",
        "x = 10\n",
        "y = 20\n",
        "z = 100\n",
        "w = (x + y) * z / 100\n",
        "print (w)"
      ],
      "metadata": {
        "colab": {
          "base_uri": "https://localhost:8080/"
        },
        "id": "OfNv3hxg8Fhk",
        "outputId": "5edfe21a-c7cb-4014-b9cf-5211628dcd54"
      },
      "execution_count": null,
      "outputs": [
        {
          "output_type": "stream",
          "name": "stdout",
          "text": [
            "30.0\n"
          ]
        }
      ]
    },
    {
      "cell_type": "code",
      "source": [
        "# Exibir textos no console\n",
        "print (\"Este texto será impresso no console\")\n",
        "print (x)\n",
        "print (\"Texto e duas variáveis:\",x,\",\",z)"
      ],
      "metadata": {
        "colab": {
          "base_uri": "https://localhost:8080/"
        },
        "id": "yg88GRZz84Y1",
        "outputId": "253e1c82-ed32-4530-f9a1-fb11d2d2dbdc"
      },
      "execution_count": null,
      "outputs": [
        {
          "output_type": "stream",
          "name": "stdout",
          "text": [
            "Este texto será impresso no console\n",
            "10\n",
            "Texto e duas variáveis: 10 , 100\n"
          ]
        }
      ]
    },
    {
      "cell_type": "code",
      "source": [
        "# Verificar tipo\n",
        "print (type(x))\n",
        "print (type(m))"
      ],
      "metadata": {
        "colab": {
          "base_uri": "https://localhost:8080/"
        },
        "id": "wTEre6yj9kBb",
        "outputId": "cab23732-b88d-4de3-bddb-2bcbe90306ba"
      },
      "execution_count": null,
      "outputs": [
        {
          "output_type": "stream",
          "name": "stdout",
          "text": [
            "<class 'int'>\n",
            "<class 'str'>\n"
          ]
        }
      ]
    },
    {
      "cell_type": "code",
      "source": [
        "# Entrada de dados\n",
        "print (\"Informe o valor:\")\n",
        "i = input()\n",
        "# Mostra tipo string\n",
        "print (type(i))"
      ],
      "metadata": {
        "colab": {
          "base_uri": "https://localhost:8080/"
        },
        "id": "9WV-iZohAn55",
        "outputId": "eb273cfb-7b1a-4dbd-e80a-617b13479242"
      },
      "execution_count": null,
      "outputs": [
        {
          "output_type": "stream",
          "name": "stdout",
          "text": [
            "Informe o valor:\n",
            "10\n",
            "<class 'str'>\n"
          ]
        }
      ]
    },
    {
      "cell_type": "code",
      "source": [],
      "metadata": {
        "id": "DolsZ8vsBdZN"
      },
      "execution_count": null,
      "outputs": []
    }
  ]
}