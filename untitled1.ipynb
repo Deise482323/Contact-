{
  "nbformat": 4,
  "nbformat_minor": 0,
  "metadata": {
    "colab": {
      "provenance": [],
      "toc_visible": true,
      "authorship_tag": "ABX9TyNaSS1/F1GG5ZizruOFyKkg",
      "include_colab_link": true
    },
    "kernelspec": {
      "name": "python3",
      "display_name": "Python 3"
    },
    "language_info": {
      "name": "python"
    }
  },
  "cells": [
    {
      "cell_type": "markdown",
      "metadata": {
        "id": "view-in-github",
        "colab_type": "text"
      },
      "source": [
        "<a href=\"https://colab.research.google.com/github/Deise482323/Contact-/blob/main/untitled1.ipynb\" target=\"_parent\"><img src=\"https://colab.research.google.com/assets/colab-badge.svg\" alt=\"Open In Colab\"/></a>"
      ]
    },
    {
      "cell_type": "code",
      "execution_count": null,
      "metadata": {
        "colab": {
          "base_uri": "https://localhost:8080/"
        },
        "id": "QO6zweJJ62jt",
        "outputId": "8ae78b4b-3523-4623-9a54-d1007821e615"
      },
      "outputs": [
        {
          "output_type": "stream",
          "name": "stdout",
          "text": [
            "1\n",
            "3.13\n",
            "Python\n",
            "False\n"
          ]
        }
      ],
      "source": [
        "#Variável do tipo inteiro\n",
        "x= 1\n",
        "print (x)\n",
        "#Variável do tipo float\n",
        "y = 3.13\n",
        "print (y)\n",
        "# Variável do tipo String\n",
        "m = 'Python'\n",
        "m = \"Python\"\n",
        "print (m)\n",
        "#Variável tipo lógica\n",
        "w = True\n",
        "y = False\n",
        "print (y)\n"
      ]
    },
    {
      "cell_type": "code",
      "source": [
        "# Calculadora\n",
        "x = 10\n",
        "y = 20\n",
        "z = 100\n",
        "w = (x + y) * z / 100\n",
        "print (w)"
      ],
      "metadata": {
        "colab": {
          "base_uri": "https://localhost:8080/"
        },
        "id": "OfNv3hxg8Fhk",
        "outputId": "5edfe21a-c7cb-4014-b9cf-5211628dcd54"
      },
      "execution_count": null,
      "outputs": [
        {
          "output_type": "stream",
          "name": "stdout",
          "text": [
            "30.0\n"
          ]
        }
      ]
    },
    {
      "cell_type": "code",
      "source": [
        "# Exibir textos no console\n",
        "print (\"Este texto será impresso no console\")\n",
        "print (x)\n",
        "print (\"Texto e duas variáveis:\",x,\",\",z)"
      ],
      "metadata": {
        "colab": {
          "base_uri": "https://localhost:8080/"
        },
        "id": "yg88GRZz84Y1",
        "outputId": "253e1c82-ed32-4530-f9a1-fb11d2d2dbdc"
      },
      "execution_count": null,
      "outputs": [
        {
          "output_type": "stream",
          "name": "stdout",
          "text": [
            "Este texto será impresso no console\n",
            "10\n",
            "Texto e duas variáveis: 10 , 100\n"
          ]
        }
      ]
    },
    {
      "cell_type": "code",
      "source": [
        "# Verificar tipo\n",
        "print (type(x))\n",
        "print (type(m))"
      ],
      "metadata": {
        "colab": {
          "base_uri": "https://localhost:8080/"
        },
        "id": "wTEre6yj9kBb",
        "outputId": "cab23732-b88d-4de3-bddb-2bcbe90306ba"
      },
      "execution_count": null,
      "outputs": [
        {
          "output_type": "stream",
          "name": "stdout",
          "text": [
            "<class 'int'>\n",
            "<class 'str'>\n"
          ]
        }
      ]
    },
    {
      "cell_type": "code",
      "source": [
        "# Entrada de dados\n",
        "print (\"Informe o valor:\")\n",
        "i = input()\n",
        "# Mostra tipo string\n",
        "print (type(i))"
      ],
      "metadata": {
        "colab": {
          "base_uri": "https://localhost:8080/"
        },
        "id": "9WV-iZohAn55",
        "outputId": "eb273cfb-7b1a-4dbd-e80a-617b13479242"
      },
      "execution_count": null,
      "outputs": [
        {
          "output_type": "stream",
          "name": "stdout",
          "text": [
            "Informe o valor:\n",
            "10\n",
            "<class 'str'>\n"
          ]
        }
      ]
    },
    {
      "cell_type": "code",
      "source": [
        "!git clone https://github.com/Deise482323/Python.git\n"
      ],
      "metadata": {
        "id": "DolsZ8vsBdZN",
        "colab": {
          "base_uri": "https://localhost:8080/"
        },
        "outputId": "7aa9faf7-cc50-41db-84d4-1993901e2d9e"
      },
      "execution_count": 1,
      "outputs": [
        {
          "output_type": "stream",
          "name": "stdout",
          "text": [
            "Cloning into 'Python'...\n",
            "warning: You appear to have cloned an empty repository.\n"
          ]
        }
      ]
    },
    {
      "cell_type": "code",
      "source": [
        "!mv /content/untitled1.ipynb /content/Python/\n"
      ],
      "metadata": {
        "colab": {
          "base_uri": "https://localhost:8080/"
        },
        "id": "rhRWfv4MPwGb",
        "outputId": "b99f5745-7aaf-425f-f078-5eae51c61595"
      },
      "execution_count": 2,
      "outputs": [
        {
          "output_type": "stream",
          "name": "stdout",
          "text": [
            "mv: cannot stat '/content/untitled1.ipynb': No such file or directory\n"
          ]
        }
      ]
    },
    {
      "cell_type": "code",
      "source": [
        "%cd /content/Python\n"
      ],
      "metadata": {
        "colab": {
          "base_uri": "https://localhost:8080/"
        },
        "id": "uIVmqu0IX2KX",
        "outputId": "0a85ed0e-a587-45a7-f69d-08cd5e42eee6"
      },
      "execution_count": 14,
      "outputs": [
        {
          "output_type": "stream",
          "name": "stdout",
          "text": [
            "/content/Python\n"
          ]
        }
      ]
    },
    {
      "cell_type": "code",
      "source": [
        "!ls -la\n"
      ],
      "metadata": {
        "colab": {
          "base_uri": "https://localhost:8080/"
        },
        "id": "sOG_aPpmX9Ad",
        "outputId": "57911fe6-d56b-4510-cbca-9b246ead6785"
      },
      "execution_count": 15,
      "outputs": [
        {
          "output_type": "stream",
          "name": "stdout",
          "text": [
            "total 12\n",
            "drwxr-xr-x 3 root root 4096 Jan 30 12:45 .\n",
            "drwxr-xr-x 1 root root 4096 Jan 30 12:45 ..\n",
            "drwxr-xr-x 7 root root 4096 Jan 30 13:20 .git\n"
          ]
        }
      ]
    },
    {
      "cell_type": "code",
      "source": [
        "!git add .\n"
      ],
      "metadata": {
        "id": "-JW2a-QDYBsu"
      },
      "execution_count": 16,
      "outputs": []
    },
    {
      "cell_type": "code",
      "source": [
        "!git commit -m \"Primeiro commit\"\n"
      ],
      "metadata": {
        "colab": {
          "base_uri": "https://localhost:8080/"
        },
        "id": "VXfVsKDyYF0n",
        "outputId": "7a9eb18a-7ce1-4def-aee5-037b4fd35c0f"
      },
      "execution_count": 17,
      "outputs": [
        {
          "output_type": "stream",
          "name": "stdout",
          "text": [
            "On branch main\n",
            "\n",
            "Initial commit\n",
            "\n",
            "nothing to commit (create/copy files and use \"git add\" to track)\n"
          ]
        }
      ]
    },
    {
      "cell_type": "code",
      "source": [
        "!git branch\n"
      ],
      "metadata": {
        "id": "F_B6hb6dYOLu"
      },
      "execution_count": 18,
      "outputs": []
    },
    {
      "cell_type": "code",
      "source": [
        "!git branch -M main\n"
      ],
      "metadata": {
        "id": "GizJATRNYPr2"
      },
      "execution_count": 19,
      "outputs": []
    },
    {
      "cell_type": "code",
      "source": [
        "!git config --global user.email \"deise0509@gmail.com\"\n",
        "!git config --global user.name \"Deise Santana\""
      ],
      "metadata": {
        "id": "QGfGW28YW9gX"
      },
      "execution_count": 12,
      "outputs": []
    },
    {
      "cell_type": "code",
      "source": [
        "!git config --global user.email \"deise0509@gmail.com\"\n",
        "!git config --global user.name \"Deise Santana\"\n"
      ],
      "metadata": {
        "id": "H7iqKQxyXdeo"
      },
      "execution_count": 11,
      "outputs": []
    },
    {
      "cell_type": "code",
      "source": [
        "!git checkout -b Python"
      ],
      "metadata": {
        "colab": {
          "base_uri": "https://localhost:8080/"
        },
        "id": "NACi_O8SuwKo",
        "outputId": "2dd7762b-89bd-462e-f89b-8ee15c803086"
      },
      "execution_count": 3,
      "outputs": [
        {
          "output_type": "stream",
          "name": "stdout",
          "text": [
            "fatal: not a git repository (or any of the parent directories): .git\n"
          ]
        }
      ]
    }
  ]
}