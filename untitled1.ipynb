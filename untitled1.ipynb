{
  "nbformat": 4,
  "nbformat_minor": 0,
  "metadata": {
    "colab": {
      "provenance": [],
      "authorship_tag": "ABX9TyOuZdvqpyGnuVJY4hGy2wu/",
      "include_colab_link": true
    },
    "kernelspec": {
      "name": "python3",
      "display_name": "Python 3"
    },
    "language_info": {
      "name": "python"
    }
  },
  "cells": [
    {
      "cell_type": "markdown",
      "metadata": {
        "id": "view-in-github",
        "colab_type": "text"
      },
      "source": [
        "<a href=\"https://colab.research.google.com/github/Deise482323/Contact-/blob/main/untitled1.ipynb\" target=\"_parent\"><img src=\"https://colab.research.google.com/assets/colab-badge.svg\" alt=\"Open In Colab\"/></a>"
      ]
    },
    {
      "cell_type": "code",
      "execution_count": null,
      "metadata": {
        "colab": {
          "base_uri": "https://localhost:8080/"
        },
        "id": "QO6zweJJ62jt",
        "outputId": "8ae78b4b-3523-4623-9a54-d1007821e615"
      },
      "outputs": [
        {
          "output_type": "stream",
          "name": "stdout",
          "text": [
            "1\n",
            "3.13\n",
            "Python\n",
            "False\n"
          ]
        }
      ],
      "source": [
        "#Variável do tipo inteiro\n",
        "x= 1\n",
        "print (x)\n",
        "#Variável do tipo float\n",
        "y = 3.13\n",
        "print (y)\n",
        "# Variável do tipo String\n",
        "m = 'Python'\n",
        "m = \"Python\"\n",
        "print (m)\n",
        "#Variável tipo lógica\n",
        "w = True\n",
        "y = False\n",
        "print (y)\n"
      ]
    },
    {
      "cell_type": "code",
      "source": [
        "# Calculadora\n",
        "x = 10\n",
        "y = 20\n",
        "z = 100\n",
        "w = (x + y) * z / 100\n",
        "print (w)"
      ],
      "metadata": {
        "colab": {
          "base_uri": "https://localhost:8080/"
        },
        "id": "OfNv3hxg8Fhk",
        "outputId": "5edfe21a-c7cb-4014-b9cf-5211628dcd54"
      },
      "execution_count": null,
      "outputs": [
        {
          "output_type": "stream",
          "name": "stdout",
          "text": [
            "30.0\n"
          ]
        }
      ]
    },
    {
      "cell_type": "code",
      "source": [
        "# Exibir textos no console\n",
        "print (\"Este texto será impresso no console\")\n",
        "print (x)\n",
        "print (\"Texto e duas variáveis:\",x,\",\",z)"
      ],
      "metadata": {
        "colab": {
          "base_uri": "https://localhost:8080/"
        },
        "id": "yg88GRZz84Y1",
        "outputId": "253e1c82-ed32-4530-f9a1-fb11d2d2dbdc"
      },
      "execution_count": null,
      "outputs": [
        {
          "output_type": "stream",
          "name": "stdout",
          "text": [
            "Este texto será impresso no console\n",
            "10\n",
            "Texto e duas variáveis: 10 , 100\n"
          ]
        }
      ]
    },
    {
      "cell_type": "code",
      "source": [
        "# Verificar tipo\n",
        "print (type(x))\n",
        "print (type(m))"
      ],
      "metadata": {
        "colab": {
          "base_uri": "https://localhost:8080/"
        },
        "id": "wTEre6yj9kBb",
        "outputId": "cab23732-b88d-4de3-bddb-2bcbe90306ba"
      },
      "execution_count": null,
      "outputs": [
        {
          "output_type": "stream",
          "name": "stdout",
          "text": [
            "<class 'int'>\n",
            "<class 'str'>\n"
          ]
        }
      ]
    },
    {
      "cell_type": "code",
      "source": [
        "# Entrada de dados\n",
        "print (\"Informe o valor:\")\n",
        "i = input()\n",
        "# Mostra tipo string\n",
        "print (type(i))"
      ],
      "metadata": {
        "colab": {
          "base_uri": "https://localhost:8080/"
        },
        "id": "9WV-iZohAn55",
        "outputId": "eb273cfb-7b1a-4dbd-e80a-617b13479242"
      },
      "execution_count": null,
      "outputs": [
        {
          "output_type": "stream",
          "name": "stdout",
          "text": [
            "Informe o valor:\n",
            "10\n",
            "<class 'str'>\n"
          ]
        }
      ]
    },
    {
      "cell_type": "code",
      "source": [
        "!git clone https://github.com/Deise482323/Python.git\n"
      ],
      "metadata": {
        "id": "DolsZ8vsBdZN",
        "colab": {
          "base_uri": "https://localhost:8080/"
        },
        "outputId": "7aa9faf7-cc50-41db-84d4-1993901e2d9e"
      },
      "execution_count": null,
      "outputs": [
        {
          "output_type": "stream",
          "name": "stdout",
          "text": [
            "Cloning into 'Python'...\n",
            "warning: You appear to have cloned an empty repository.\n"
          ]
        }
      ]
    },
    {
      "cell_type": "code",
      "source": [
        "!mv /content/untitled1.ipynb /content/Python/\n"
      ],
      "metadata": {
        "colab": {
          "base_uri": "https://localhost:8080/"
        },
        "id": "rhRWfv4MPwGb",
        "outputId": "b99f5745-7aaf-425f-f078-5eae51c61595"
      },
      "execution_count": null,
      "outputs": [
        {
          "output_type": "stream",
          "name": "stdout",
          "text": [
            "mv: cannot stat '/content/untitled1.ipynb': No such file or directory\n"
          ]
        }
      ]
    },
    {
      "cell_type": "code",
      "source": [
        "%cd /content/Python\n"
      ],
      "metadata": {
        "colab": {
          "base_uri": "https://localhost:8080/"
        },
        "id": "uIVmqu0IX2KX",
        "outputId": "0a85ed0e-a587-45a7-f69d-08cd5e42eee6"
      },
      "execution_count": null,
      "outputs": [
        {
          "output_type": "stream",
          "name": "stdout",
          "text": [
            "/content/Python\n"
          ]
        }
      ]
    },
    {
      "cell_type": "code",
      "source": [
        "!ls -la\n"
      ],
      "metadata": {
        "colab": {
          "base_uri": "https://localhost:8080/"
        },
        "id": "sOG_aPpmX9Ad",
        "outputId": "57911fe6-d56b-4510-cbca-9b246ead6785"
      },
      "execution_count": null,
      "outputs": [
        {
          "output_type": "stream",
          "name": "stdout",
          "text": [
            "total 12\n",
            "drwxr-xr-x 3 root root 4096 Jan 30 12:45 .\n",
            "drwxr-xr-x 1 root root 4096 Jan 30 12:45 ..\n",
            "drwxr-xr-x 7 root root 4096 Jan 30 13:20 .git\n"
          ]
        }
      ]
    },
    {
      "cell_type": "code",
      "source": [
        "!git add .\n"
      ],
      "metadata": {
        "id": "-JW2a-QDYBsu"
      },
      "execution_count": null,
      "outputs": []
    },
    {
      "cell_type": "code",
      "source": [
        "!git commit -m \"Primeiro commit\"\n"
      ],
      "metadata": {
        "colab": {
          "base_uri": "https://localhost:8080/"
        },
        "id": "VXfVsKDyYF0n",
        "outputId": "7a9eb18a-7ce1-4def-aee5-037b4fd35c0f"
      },
      "execution_count": null,
      "outputs": [
        {
          "output_type": "stream",
          "name": "stdout",
          "text": [
            "On branch main\n",
            "\n",
            "Initial commit\n",
            "\n",
            "nothing to commit (create/copy files and use \"git add\" to track)\n"
          ]
        }
      ]
    },
    {
      "cell_type": "code",
      "source": [
        "!git branch\n"
      ],
      "metadata": {
        "id": "F_B6hb6dYOLu"
      },
      "execution_count": null,
      "outputs": []
    },
    {
      "cell_type": "code",
      "source": [
        "!git branch -M main\n"
      ],
      "metadata": {
        "id": "GizJATRNYPr2"
      },
      "execution_count": null,
      "outputs": []
    },
    {
      "cell_type": "code",
      "source": [
        "!git config --global user.email \"deise0509@gmail.com\"\n",
        "!git config --global user.name \"Deise Santana\""
      ],
      "metadata": {
        "id": "QGfGW28YW9gX"
      },
      "execution_count": null,
      "outputs": []
    },
    {
      "cell_type": "code",
      "source": [
        "!git config --global user.email \"deise0509@gmail.com\"\n",
        "!git config --global user.name \"Deise Santana\"\n"
      ],
      "metadata": {
        "id": "H7iqKQxyXdeo"
      },
      "execution_count": null,
      "outputs": []
    },
    {
      "cell_type": "code",
      "source": [
        "nota = 7\n",
        "if nota >= 7:\n",
        "  print (\"Aprovado\")\n",
        "  print (\"Parabens!\")\n",
        "else:\n",
        "  print (\"Reprovado\")"
      ],
      "metadata": {
        "colab": {
          "base_uri": "https://localhost:8080/"
        },
        "id": "DaJRyOhJNlu7",
        "outputId": "98efe316-3e20-4b23-acc7-70153a0a6526"
      },
      "execution_count": null,
      "outputs": [
        {
          "output_type": "stream",
          "name": "stdout",
          "text": [
            "Aprovado\n",
            "Parabens!\n"
          ]
        }
      ]
    },
    {
      "cell_type": "code",
      "source": [
        "nota = 5\n",
        "if nota >= 7:\n",
        "  print (\"Aprovado\")\n",
        "  print (\"Parabens!\")\n",
        "else:\n",
        "  print (\"Reprovado\")"
      ],
      "metadata": {
        "colab": {
          "base_uri": "https://localhost:8080/"
        },
        "id": "kxVbxMV0PVLu",
        "outputId": "874ea085-70af-4c12-8262-5eddc05fca02"
      },
      "execution_count": null,
      "outputs": [
        {
          "output_type": "stream",
          "name": "stdout",
          "text": [
            "Reprovado\n"
          ]
        }
      ]
    },
    {
      "cell_type": "code",
      "source": [
        "nota = 7\n",
        "if nota <= 4:\n",
        "  print (\"Reprovado\")\n",
        "elif nota> 4 and nota <=6:\n",
        "  print (\"Exame!\")\n",
        "else:\n",
        "  print (\"Aprovado\")"
      ],
      "metadata": {
        "colab": {
          "base_uri": "https://localhost:8080/"
        },
        "id": "tmdt_O6bPem2",
        "outputId": "2da4c9bc-f50a-4a93-b00b-a6c71579fac7"
      },
      "execution_count": null,
      "outputs": [
        {
          "output_type": "stream",
          "name": "stdout",
          "text": [
            "Aprovado\n"
          ]
        }
      ]
    },
    {
      "cell_type": "code",
      "source": [
        "# Exemplo com while\n",
        "\n",
        "count = 1\n",
        "while count <=5:\n",
        "  print (count)\n",
        "  count += 1"
      ],
      "metadata": {
        "colab": {
          "base_uri": "https://localhost:8080/"
        },
        "id": "b6X_6FcoQKiT",
        "outputId": "b45503f6-26ce-468d-e1a4-f8bd05774597"
      },
      "execution_count": null,
      "outputs": [
        {
          "output_type": "stream",
          "name": "stdout",
          "text": [
            "1\n",
            "2\n",
            "3\n",
            "4\n",
            "5\n"
          ]
        }
      ]
    },
    {
      "cell_type": "code",
      "source": [
        "# range (0,10,1):\n",
        "# range (inicio, parada, incremento)\n",
        "# python ingnora o ultimo valor de intervalos\n",
        "# o incremento pode ser negativo\n",
        "\n",
        "# for normal:\n",
        "for n in range (0, 10):\n",
        "   print (n + 1)\n",
        "for n in range (1,11):\n",
        "    print (n)"
      ],
      "metadata": {
        "colab": {
          "base_uri": "https://localhost:8080/"
        },
        "id": "zMWNT9zrR2sf",
        "outputId": "58474086-d179-4419-8954-22eeafe6176c"
      },
      "execution_count": null,
      "outputs": [
        {
          "output_type": "stream",
          "name": "stdout",
          "text": [
            "1\n",
            "2\n",
            "3\n",
            "4\n",
            "5\n",
            "6\n",
            "7\n",
            "8\n",
            "9\n",
            "10\n",
            "1\n",
            "2\n",
            "3\n",
            "4\n",
            "5\n",
            "6\n",
            "7\n",
            "8\n",
            "9\n",
            "10\n"
          ]
        }
      ]
    },
    {
      "cell_type": "code",
      "source": [
        "#Célula de código <undefined>\n",
        "# %% [code]\n",
        "#for decrecente\n",
        "for n in range(10, 0,-1):\n",
        "    print(n)"
      ],
      "metadata": {
        "colab": {
          "base_uri": "https://localhost:8080/"
        },
        "id": "kbHsK2e4TKgc",
        "outputId": "f2fd43a9-580a-4435-d071-d9fb6a1477bb"
      },
      "execution_count": null,
      "outputs": [
        {
          "output_type": "stream",
          "name": "stdout",
          "text": [
            "10\n",
            "9\n",
            "8\n",
            "7\n",
            "6\n",
            "5\n",
            "4\n",
            "3\n",
            "2\n",
            "1\n"
          ]
        }
      ]
    },
    {
      "cell_type": "code",
      "source": [
        "#Célula de código <undefined>\n",
        "# %% [code]\n",
        "#exemplo com break\n",
        "#vai parar no 3 pois o break está antes do print\n",
        "for n in range(0, 10):\n",
        "    if n==4:\n",
        "        break\n",
        "    print(n)"
      ],
      "metadata": {
        "colab": {
          "base_uri": "https://localhost:8080/"
        },
        "id": "gIPcM5s1Wruq",
        "outputId": "5bd02ee9-b2bd-47d4-8726-e0788773c689"
      },
      "execution_count": null,
      "outputs": [
        {
          "output_type": "stream",
          "name": "stdout",
          "text": [
            "0\n",
            "1\n",
            "2\n",
            "3\n"
          ]
        }
      ]
    },
    {
      "cell_type": "code",
      "source": [
        "#Célula de código <undefined>\n",
        "# %% [code]\n",
        "#exemplo com continue\n",
        "#vai pular o numero 4\n",
        "for n in range(0, 10):\n",
        "    if n==4:\n",
        "        continue\n",
        "    print(n)\n"
      ],
      "metadata": {
        "colab": {
          "base_uri": "https://localhost:8080/"
        },
        "id": "JjfZH1gfWu4s",
        "outputId": "815c976f-d186-4706-9e66-65f4c96a4d5d"
      },
      "execution_count": null,
      "outputs": [
        {
          "output_type": "stream",
          "name": "stdout",
          "text": [
            "0\n",
            "1\n",
            "2\n",
            "3\n",
            "5\n",
            "6\n",
            "7\n",
            "8\n",
            "9\n"
          ]
        }
      ]
    },
    {
      "cell_type": "code",
      "source": [
        "#Célula de código <undefined>\n",
        "#%% [code]"
      ],
      "metadata": {
        "id": "Mbi8nlV1WxIW"
      },
      "execution_count": null,
      "outputs": []
    },
    {
      "cell_type": "code",
      "source": [
        "#Célula de texto <undefined>\n",
        "#%% [markdown]\n",
        "#Formação Cientista de Dados - Prof. Fernando Amaral Listas\n",
        "\n",
        "#Célula de código <undefined>\n",
        "# %% [code]\n",
        "#formas de criar listas\n",
        "lst = [1,2,3,4,5]\n",
        "print(lst)"
      ],
      "metadata": {
        "colab": {
          "base_uri": "https://localhost:8080/"
        },
        "id": "RN0FIneoXRhL",
        "outputId": "29230c58-8542-4c6f-dff0-4fec642ba14e"
      },
      "execution_count": null,
      "outputs": [
        {
          "output_type": "stream",
          "name": "stdout",
          "text": [
            "[1, 2, 3, 4, 5]\n"
          ]
        }
      ]
    },
    {
      "cell_type": "code",
      "source": [
        "#Célula de código <undefined>\n",
        "# %% [code]\n",
        "#vários tipos\n",
        "lst2 = [1,2,3,\"4\",True]\n",
        "print(lst2)\n"
      ],
      "metadata": {
        "colab": {
          "base_uri": "https://localhost:8080/"
        },
        "id": "P_NAt7iZZqTJ",
        "outputId": "b321b3ee-db24-4c0c-c654-50ffd62e9d57"
      },
      "execution_count": null,
      "outputs": [
        {
          "output_type": "stream",
          "name": "stdout",
          "text": [
            "[1, 2, 3, '4', True]\n"
          ]
        }
      ]
    },
    {
      "cell_type": "code",
      "source": [
        "#Célula de código <undefined>\n",
        "# %% [code]\n",
        "#lista com lista\n",
        "lst3 = [12,[1,2,3,4,5],\"a\"]\n",
        "print(lst3)"
      ],
      "metadata": {
        "colab": {
          "base_uri": "https://localhost:8080/"
        },
        "id": "rZCJWPQFZxL1",
        "outputId": "54f05d99-b996-4dd6-ab0d-4845d517c1a5"
      },
      "execution_count": null,
      "outputs": [
        {
          "output_type": "stream",
          "name": "stdout",
          "text": [
            "[12, [1, 2, 3, 4, 5], 'a']\n"
          ]
        }
      ]
    },
    {
      "cell_type": "code",
      "source": [
        "#Célula de código <undefined>\n",
        "# %% [code]\n",
        "#criando lista com range\n",
        "lst4 = list(range(0,10))\n",
        "print(lst4)"
      ],
      "metadata": {
        "colab": {
          "base_uri": "https://localhost:8080/"
        },
        "id": "bDCOrLl_Z0lI",
        "outputId": "18d3b2cf-ff24-4dfa-8824-fdcd3ca6491a"
      },
      "execution_count": null,
      "outputs": [
        {
          "output_type": "stream",
          "name": "stdout",
          "text": [
            "[0, 1, 2, 3, 4, 5, 6, 7, 8, 9]\n"
          ]
        }
      ]
    },
    {
      "cell_type": "code",
      "source": [
        "#Célula de código <undefined>\n",
        "# %% [code]\n",
        "#comprimento da lista\n",
        "print(len(lst))\n"
      ],
      "metadata": {
        "colab": {
          "base_uri": "https://localhost:8080/"
        },
        "id": "KC7Qoux-Z4MD",
        "outputId": "ecadcadc-a1cc-4a35-aff6-3ea18ebeb5ac"
      },
      "execution_count": null,
      "outputs": [
        {
          "output_type": "stream",
          "name": "stdout",
          "text": [
            "5\n"
          ]
        }
      ]
    },
    {
      "cell_type": "code",
      "source": [
        "#Célula de código <undefined>\n",
        "# %% [code]\n",
        "#acessando elemento\n",
        "print(lst[0])\n",
        "#posiçõo 1 é uma lista\n",
        "print(lst3[1])\n",
        "#alterando posição\n",
        "lst[0] = 4\n",
        "print(lst)"
      ],
      "metadata": {
        "colab": {
          "base_uri": "https://localhost:8080/"
        },
        "id": "CvnI96YqZ7Al",
        "outputId": "9af7262e-cb51-4592-8a07-a6942bfe1927"
      },
      "execution_count": null,
      "outputs": [
        {
          "output_type": "stream",
          "name": "stdout",
          "text": [
            "1\n",
            "[1, 2, 3, 4, 5]\n",
            "[4, 2, 3, 4, 5]\n"
          ]
        }
      ]
    },
    {
      "cell_type": "code",
      "source": [
        "#Célula de código <undefined>\n",
        "# %% [code]\n",
        "#percorrendo lista\n",
        "for n in range(0, len(lst4)):\n",
        "    print(lst4[n]+1)\n",
        "\n",
        "#Célula de código <undefined>\n",
        "# %% [code]\n"
      ],
      "metadata": {
        "colab": {
          "base_uri": "https://localhost:8080/"
        },
        "id": "YTCwdtUgZ-Uj",
        "outputId": "3541c5ba-ce30-4280-c8c3-f5ca3f19dc1d"
      },
      "execution_count": null,
      "outputs": [
        {
          "output_type": "stream",
          "name": "stdout",
          "text": [
            "1\n",
            "2\n",
            "3\n",
            "4\n",
            "5\n",
            "6\n",
            "7\n",
            "8\n",
            "9\n",
            "10\n"
          ]
        }
      ]
    },
    {
      "cell_type": "code",
      "source": [
        "#Célula de código <undefined>\n",
        "# %% [code]\n",
        "#percorrendo lista\n",
        "for n in range(0, len(lst4)):\n",
        "    print(lst4[n]+1)\n",
        "\n",
        "#Célula de código <undefined>\n",
        "# %% [code]\n"
      ],
      "metadata": {
        "colab": {
          "base_uri": "https://localhost:8080/"
        },
        "id": "gyTBM5I8dmoR",
        "outputId": "c4ef2d1e-a7af-4848-8330-71d5c9f154d7"
      },
      "execution_count": null,
      "outputs": [
        {
          "output_type": "stream",
          "name": "stdout",
          "text": [
            "1\n",
            "2\n",
            "3\n",
            "4\n",
            "5\n",
            "6\n",
            "7\n",
            "8\n",
            "9\n",
            "10\n"
          ]
        }
      ]
    },
    {
      "cell_type": "code",
      "source": [
        "#Célula de código <QXI-bzfvcko9>\n",
        "# %% [code]\n",
        "#dicionários: estrutura chave/valor\n",
        "Notas = {'João': 6.0, 'Maria': 8.0, 'Pedro': 6.5}\n"
      ],
      "metadata": {
        "id": "ZMczIw6hdqkl"
      },
      "execution_count": null,
      "outputs": []
    },
    {
      "cell_type": "code",
      "source": [
        "#Célula de código <QXI-bzfvcko9>\n",
        "# %% [code]\n",
        "#dicionários: estrutura chave/valor\n",
        "Notas = {'João': 6.0, 'Maria': 8.0, 'Pedro': 6.5}\n",
        "print(Notas)"
      ],
      "metadata": {
        "colab": {
          "base_uri": "https://localhost:8080/"
        },
        "id": "jgIOM28Dpyrp",
        "outputId": "710e7eaa-e094-45ed-9da6-6e13b217fb16"
      },
      "execution_count": null,
      "outputs": [
        {
          "output_type": "stream",
          "name": "stdout",
          "text": [
            "{'João': 6.0, 'Maria': 8.0, 'Pedro': 6.5}\n"
          ]
        }
      ]
    },
    {
      "cell_type": "code",
      "source": [
        "#Célula de código <4nAIdxOcc8ya>\n",
        "# %% [code]\n",
        "print(Notas['João'])\n"
      ],
      "metadata": {
        "colab": {
          "base_uri": "https://localhost:8080/"
        },
        "id": "KJRv3E_3d1Di",
        "outputId": "d17552e9-65a9-4673-a463-4967002ab4e5"
      },
      "execution_count": null,
      "outputs": [
        {
          "output_type": "stream",
          "name": "stdout",
          "text": [
            "6.0\n"
          ]
        }
      ]
    },
    {
      "cell_type": "code",
      "source": [
        "#Célula de código <jUhrWDmFdH9R>\n",
        "# %% [code]\n",
        "#Todasd as chaves\n",
        "Notas.keys()"
      ],
      "metadata": {
        "colab": {
          "base_uri": "https://localhost:8080/"
        },
        "id": "kmsbok2jd63b",
        "outputId": "4ee85ec5-e8e8-421b-a697-e7fb964234cf"
      },
      "execution_count": null,
      "outputs": [
        {
          "output_type": "execute_result",
          "data": {
            "text/plain": [
              "dict_keys(['João', 'Maria', 'Pedro'])"
            ]
          },
          "metadata": {},
          "execution_count": 23
        }
      ]
    },
    {
      "cell_type": "code",
      "source": [
        "#Célula de código <fYGMVl6MdS6z>\n",
        "# %% [code]\n",
        "#todos os valores\n",
        "Notas.values()"
      ],
      "metadata": {
        "colab": {
          "base_uri": "https://localhost:8080/"
        },
        "id": "8azwICadeDKg",
        "outputId": "d3087fb9-b5a6-4ce8-c9ff-24b139dfb9bd"
      },
      "execution_count": null,
      "outputs": [
        {
          "output_type": "execute_result",
          "data": {
            "text/plain": [
              "dict_values([6.0, 8.0, 6.5])"
            ]
          },
          "metadata": {},
          "execution_count": 24
        }
      ]
    },
    {
      "cell_type": "code",
      "source": [
        "#Célula de código <DjBy4ZvsdX2a>\n",
        "# %% [code]\n",
        "#Testa logicamente a existência\n",
        "print('João' in Notas)\n",
        "print('Fernando' in Notas)"
      ],
      "metadata": {
        "colab": {
          "base_uri": "https://localhost:8080/"
        },
        "id": "Cyo11w5PeKTn",
        "outputId": "d56be876-2993-47de-fa1f-716f9eb99f78"
      },
      "execution_count": null,
      "outputs": [
        {
          "output_type": "stream",
          "name": "stdout",
          "text": [
            "True\n",
            "False\n"
          ]
        }
      ]
    },
    {
      "cell_type": "code",
      "source": [
        "#Célula de código <hmx--lsNdgkj>\n",
        "# %% [code]\n",
        "#apaga um elemento\n",
        "del Notas['João']\n",
        "print(Notas)"
      ],
      "metadata": {
        "colab": {
          "base_uri": "https://localhost:8080/"
        },
        "id": "f89zj-yBeSYb",
        "outputId": "ebdb6e8c-25ae-4963-db2d-538eb8cf640b"
      },
      "execution_count": null,
      "outputs": [
        {
          "output_type": "stream",
          "name": "stdout",
          "text": [
            "{'Maria': 8.0, 'Pedro': 6.5}\n"
          ]
        }
      ]
    },
    {
      "cell_type": "code",
      "source": [
        "#Célula de código <suEjj2tWdqfB>\n",
        "# %% [code]\n",
        "#inclui um elemento\n",
        "Notas['Ana'] = 9\n",
        "print(Notas)"
      ],
      "metadata": {
        "colab": {
          "base_uri": "https://localhost:8080/"
        },
        "id": "YK9ay7a0eW1K",
        "outputId": "5d724f7b-7a1d-4276-c17a-7c6da2e24063"
      },
      "execution_count": null,
      "outputs": [
        {
          "output_type": "stream",
          "name": "stdout",
          "text": [
            "{'Maria': 8.0, 'Pedro': 6.5, 'Ana': 9}\n"
          ]
        }
      ]
    },
    {
      "cell_type": "code",
      "source": [
        "#Célula de código <yu483JMyd5yz>\n",
        "# %% [code]\n",
        "#busca um valor, se não encontrar mostra segundo parametro\n",
        "Notas.get('Geraldo',\"Não encontrado!\")"
      ],
      "metadata": {
        "colab": {
          "base_uri": "https://localhost:8080/",
          "height": 35
        },
        "id": "efTLmg2SeaXk",
        "outputId": "c2ca9bbf-451c-425f-bfb3-0f0fb5aa3556"
      },
      "execution_count": null,
      "outputs": [
        {
          "output_type": "execute_result",
          "data": {
            "text/plain": [
              "'Não encontrado!'"
            ],
            "application/vnd.google.colaboratory.intrinsic+json": {
              "type": "string"
            }
          },
          "metadata": {},
          "execution_count": 28
        }
      ]
    },
    {
      "cell_type": "code",
      "source": [
        "#Célula de código <GafhrtB2eJd7>\n",
        "# %% [code]\n",
        "#sets são conjuntos não ordenados de elementos não repetidos\n",
        "bigdata = {'Spark', 'Hive', \"Sqoop\"}\n",
        "print(bigdata)"
      ],
      "metadata": {
        "colab": {
          "base_uri": "https://localhost:8080/"
        },
        "id": "XYov8qbdeeT7",
        "outputId": "9517834e-f601-495c-c574-f1b9947b307c"
      },
      "execution_count": null,
      "outputs": [
        {
          "output_type": "stream",
          "name": "stdout",
          "text": [
            "{'Sqoop', 'Hive', 'Spark'}\n"
          ]
        }
      ]
    },
    {
      "cell_type": "code",
      "source": [
        "#Célula de código <WcW3f5nzeaCC>\n",
        "# %% [code]\n",
        "#verifica existência\n",
        "print('Spark' in bigdata)"
      ],
      "metadata": {
        "colab": {
          "base_uri": "https://localhost:8080/"
        },
        "id": "4SF8VaMTehom",
        "outputId": "acfadfcb-d0d9-4f06-a8a7-bbbdb10d0793"
      },
      "execution_count": null,
      "outputs": [
        {
          "output_type": "stream",
          "name": "stdout",
          "text": [
            "True\n"
          ]
        }
      ]
    },
    {
      "cell_type": "code",
      "source": [
        "#Célula de código <qJw0n8SOfCEL>\n",
        "# %% [code]\n",
        "#adiciona elemento\n",
        "bigdata.add('Hadoop')\n",
        "bigdata"
      ],
      "metadata": {
        "colab": {
          "base_uri": "https://localhost:8080/"
        },
        "id": "Awq9aRQ1elnv",
        "outputId": "485fd929-a5b9-429a-c599-b8c8a0e6015b"
      },
      "execution_count": null,
      "outputs": [
        {
          "output_type": "execute_result",
          "data": {
            "text/plain": [
              "{'Hadoop', 'Hive', 'Spark', 'Sqoop'}"
            ]
          },
          "metadata": {},
          "execution_count": 31
        }
      ]
    },
    {
      "cell_type": "code",
      "source": [
        "#Célula de código <78RiSwRNflhb>\n",
        "# %% [code]\n",
        "#tuplas são listas que não podem ser alteradas\n",
        "#listas usam [], tuplas usam ()\n",
        "tupla = (1,2,3,4,5,6,7)\n",
        "tupla"
      ],
      "metadata": {
        "colab": {
          "base_uri": "https://localhost:8080/"
        },
        "id": "lTFT1UGAesxU",
        "outputId": "cbc086d1-d413-4619-91af-b95d2d1bd603"
      },
      "execution_count": null,
      "outputs": [
        {
          "output_type": "execute_result",
          "data": {
            "text/plain": [
              "(1, 2, 3, 4, 5, 6, 7)"
            ]
          },
          "metadata": {},
          "execution_count": 32
        }
      ]
    },
    {
      "cell_type": "code",
      "source": [
        "#Célula de código <CPcpjOVEf1GK>\n",
        "# %% [code]\n",
        "tupla[4]"
      ],
      "metadata": {
        "colab": {
          "base_uri": "https://localhost:8080/"
        },
        "id": "FxdU1vnhewAi",
        "outputId": "aedbe049-a02e-4c3a-bbc9-c706e99dc838"
      },
      "execution_count": null,
      "outputs": [
        {
          "output_type": "execute_result",
          "data": {
            "text/plain": [
              "5"
            ]
          },
          "metadata": {},
          "execution_count": 33
        }
      ]
    },
    {
      "cell_type": "code",
      "source": [
        "#Célula de código <p4IQaJDof3fS>\n",
        "# %% [code]\n",
        "#dicionários em que cada posição recebe uma tupla\n",
        "dic2 = {(0, 1): 0, (1, 2): 1, (2, 3): 2, (3, 4): 3, (4, 5): 4,(5, 6): 5, (6, 7): 6, (7, 8): 7, (8, 9): 8, (9, 10): 9}\n",
        "dic2"
      ],
      "metadata": {
        "colab": {
          "base_uri": "https://localhost:8080/"
        },
        "id": "TSSs3sgzez-S",
        "outputId": "6819d507-203b-4f52-ceba-77b3619abeaf"
      },
      "execution_count": null,
      "outputs": [
        {
          "output_type": "execute_result",
          "data": {
            "text/plain": [
              "{(0, 1): 0,\n",
              " (1, 2): 1,\n",
              " (2, 3): 2,\n",
              " (3, 4): 3,\n",
              " (4, 5): 4,\n",
              " (5, 6): 5,\n",
              " (6, 7): 6,\n",
              " (7, 8): 7,\n",
              " (8, 9): 8,\n",
              " (9, 10): 9}"
            ]
          },
          "metadata": {},
          "execution_count": 34
        }
      ]
    },
    {
      "cell_type": "code",
      "source": [
        "#Célula de código <8fWW_G06hUUc>\n",
        "# %% [code]\n",
        "print(type(Notas))\n",
        "print(type(bigdata))\n",
        "print(type(tupla))"
      ],
      "metadata": {
        "colab": {
          "base_uri": "https://localhost:8080/"
        },
        "id": "MBNGq4yUe33d",
        "outputId": "3b5da136-ed3b-47a1-c6d4-2a3676047bef"
      },
      "execution_count": null,
      "outputs": [
        {
          "output_type": "stream",
          "name": "stdout",
          "text": [
            "<class 'dict'>\n",
            "<class 'set'>\n",
            "<class 'tuple'>\n"
          ]
        }
      ]
    },
    {
      "cell_type": "code",
      "source": [
        "import numpy as np"
      ],
      "metadata": {
        "id": "ItlesXKxnfuS"
      },
      "execution_count": 3,
      "outputs": []
    },
    {
      "cell_type": "code",
      "source": [
        "#cria uma matriz unidimensional\n",
        "mt = np.array([12,34,26,18,10])\n",
        "print(mt)\n",
        "print(type(mt))"
      ],
      "metadata": {
        "colab": {
          "base_uri": "https://localhost:8080/"
        },
        "id": "H35qF52kny-b",
        "outputId": "0ccadfa0-6a4c-4405-f786-fdff738724ec"
      },
      "execution_count": 4,
      "outputs": [
        {
          "output_type": "stream",
          "name": "stdout",
          "text": [
            "[12 34 26 18 10]\n",
            "<class 'numpy.ndarray'>\n"
          ]
        }
      ]
    },
    {
      "cell_type": "code",
      "source": [
        "#criar o array com um tipo específico\n",
        "# cria o array como float de 64 bits\n",
        "mtfloat = np.array([1, 2, 3], dtype = np.float64)\n",
        "print(mtfloat)\n",
        "print(type(mtfloat))\n",
        "mtint = np.array([1, 2, 3], dtype = np.int32)\n",
        "print(mtint)\n",
        "print(type(mtint))"
      ],
      "metadata": {
        "colab": {
          "base_uri": "https://localhost:8080/"
        },
        "id": "xKwjMSboaeso",
        "outputId": "df5f1cfb-0228-47e4-e010-a80e4390b625"
      },
      "execution_count": 5,
      "outputs": [
        {
          "output_type": "stream",
          "name": "stdout",
          "text": [
            "[1. 2. 3.]\n",
            "<class 'numpy.ndarray'>\n",
            "[1 2 3]\n",
            "<class 'numpy.ndarray'>\n"
          ]
        }
      ]
    },
    {
      "cell_type": "code",
      "source": [
        "#mudar o tipo do array\n",
        "# Podemos transformar tipos de dados de arrays\n",
        "mtnew = np.array([1.4, 3.6, -5.1, 9.42, 4.999999])\n",
        "print(mtnew)\n",
        "# quando transformamos de float para int os valores são truncados\n",
        "mtnewint = mtnew.astype(np.int32)\n",
        "print(mtnewint)"
      ],
      "metadata": {
        "colab": {
          "base_uri": "https://localhost:8080/"
        },
        "id": "3FYcX9okaoPT",
        "outputId": "16d9f72b-25f2-427d-bba8-f03ac2317632"
      },
      "execution_count": 6,
      "outputs": [
        {
          "output_type": "stream",
          "name": "stdout",
          "text": [
            "[ 1.4       3.6      -5.1       9.42      4.999999]\n",
            "[ 1  3 -5  9  4]\n"
          ]
        }
      ]
    },
    {
      "cell_type": "code",
      "source": [
        "# podemos fazer o inverso também.\n",
        "mt5 = np.array([1, 2, 3, 4])\n",
        "print(mt5)\n",
        "mt6 = mt5.astype(float)\n",
        "print(mt6)"
      ],
      "metadata": {
        "colab": {
          "base_uri": "https://localhost:8080/"
        },
        "id": "ff5zt5wRauA4",
        "outputId": "6d545e43-696c-41ca-9003-e1ad2133b3df"
      },
      "execution_count": 7,
      "outputs": [
        {
          "output_type": "stream",
          "name": "stdout",
          "text": [
            "[1 2 3 4]\n",
            "[1. 2. 3. 4.]\n"
          ]
        }
      ]
    },
    {
      "cell_type": "code",
      "source": [
        "# mais de uma dimensão\n",
        "# cria um matriz bidimensional\n",
        "mt7 = np.array([[7,2,23],[12,27,4],[5,34,23]])\n",
        "print(mt7)"
      ],
      "metadata": {
        "colab": {
          "base_uri": "https://localhost:8080/"
        },
        "id": "klX78Pw-bG0p",
        "outputId": "6efd01df-08ac-4be6-d0c5-b446902a3cb2"
      },
      "execution_count": 8,
      "outputs": [
        {
          "output_type": "stream",
          "name": "stdout",
          "text": [
            "[[ 7  2 23]\n",
            " [12 27  4]\n",
            " [ 5 34 23]]\n"
          ]
        }
      ]
    },
    {
      "cell_type": "code",
      "source": [
        "#criar arrays vazios tipificados\n",
        "#empty significa que não são inicializados, não que são vazios\n",
        "vazio = np.empty([3,2], dtype = int)\n",
        "print(vazio)\n",
        "print(\"-------\")\n",
        "# cria uma matriz 4x3 com valores zero\n",
        "zeros = np.zeros([4,3])\n",
        "print(zeros)\n",
        "print(\"-------\")\n",
        "#com valores igual a um\n",
        "um = np.ones([5,7])\n",
        "print(um)\n",
        "print(\"-------\")\n",
        "# cria matriz quadrada com diagonal principal com valores 1 e os outros valores zero\n",
        "diagonal = np.eye(5)\n",
        "print(diagonal)"
      ],
      "metadata": {
        "colab": {
          "base_uri": "https://localhost:8080/"
        },
        "id": "XbYuRFg6bOl7",
        "outputId": "04cb5521-ab41-4a13-e0bb-6404fbe00796"
      },
      "execution_count": 9,
      "outputs": [
        {
          "output_type": "stream",
          "name": "stdout",
          "text": [
            "[[    52479954            0]\n",
            " [416611827815 137438953580]\n",
            " [433791697011 459561500773]]\n",
            "-------\n",
            "[[0. 0. 0.]\n",
            " [0. 0. 0.]\n",
            " [0. 0. 0.]\n",
            " [0. 0. 0.]]\n",
            "-------\n",
            "[[1. 1. 1. 1. 1. 1. 1.]\n",
            " [1. 1. 1. 1. 1. 1. 1.]\n",
            " [1. 1. 1. 1. 1. 1. 1.]\n",
            " [1. 1. 1. 1. 1. 1. 1.]\n",
            " [1. 1. 1. 1. 1. 1. 1.]]\n",
            "-------\n",
            "[[1. 0. 0. 0. 0.]\n",
            " [0. 1. 0. 0. 0.]\n",
            " [0. 0. 1. 0. 0.]\n",
            " [0. 0. 0. 1. 0.]\n",
            " [0. 0. 0. 0. 1.]]\n"
          ]
        }
      ]
    },
    {
      "cell_type": "code",
      "source": [
        "#valores aleatórios entre zero e um\n",
        "ale = np.random.random((5))\n",
        "print(ale)\n",
        "print(\"-------\")\n",
        "#valores aleatórios distr. normal contendo negativos\n",
        "ale2= np.random.randn((5))\n",
        "print(ale2)\n",
        "print(\"-------\")\n",
        "#valores aleatórios 3 x 4\n",
        "ale3 = (10*np.random.random((3,4)))\n",
        "print(ale3)"
      ],
      "metadata": {
        "colab": {
          "base_uri": "https://localhost:8080/"
        },
        "id": "0kdkXTBCbd1u",
        "outputId": "49dbe74a-6221-46ff-dc0c-7613efbf1432"
      },
      "execution_count": 10,
      "outputs": [
        {
          "output_type": "stream",
          "name": "stdout",
          "text": [
            "[0.39016552 0.24342859 0.98072795 0.12272233 0.26923911]\n",
            "-------\n",
            "[-0.35741956 -0.66678108 -1.37466119  1.58977733 -0.27831561]\n",
            "-------\n",
            "[[6.33908675 2.1522416  6.94121963 8.24340356]\n",
            " [7.75389871 2.68949877 8.52846702 9.94774978]\n",
            " [4.1328445  9.0565748  1.10361473 3.3287659 ]]\n"
          ]
        }
      ]
    },
    {
      "cell_type": "code",
      "source": [
        "#outra forma de gerar aleatórios\n",
        "#uso de semente\n",
        "gnr = np.random.default_rng(1)\n",
        "ale5 = gnr.random(3)\n",
        "print (ale5)\n",
        "\n",
        "#gerar inteiros\n",
        "ale6 = gnr.integers(10, size=(3, 4))\n",
        "print(ale6)"
      ],
      "metadata": {
        "colab": {
          "base_uri": "https://localhost:8080/"
        },
        "id": "qVpyHBwsbq24",
        "outputId": "a37a6b2c-d9d0-4faa-b36c-4a759fcc6c11"
      },
      "execution_count": 11,
      "outputs": [
        {
          "output_type": "stream",
          "name": "stdout",
          "text": [
            "[0.51182162 0.9504637  0.14415961]\n",
            "[[8 9 2 3]\n",
            " [8 4 2 8]\n",
            " [2 4 6 5]]\n"
          ]
        }
      ]
    },
    {
      "cell_type": "code",
      "source": [
        "#unique remove repetições\n",
        "j = np.array([11, 12, 13, 14, 15, 16, 17, 12, 13, 11, 18, 19, 20])\n",
        "j = np.unique(j)\n",
        "print(j)"
      ],
      "metadata": {
        "colab": {
          "base_uri": "https://localhost:8080/"
        },
        "id": "Lj0tIGkQbwI5",
        "outputId": "af3951e3-7fd7-4576-b734-c7b4ef68cdef"
      },
      "execution_count": 12,
      "outputs": [
        {
          "output_type": "stream",
          "name": "stdout",
          "text": [
            "[11 12 13 14 15 16 17 18 19 20]\n"
          ]
        }
      ]
    },
    {
      "cell_type": "code",
      "source": [
        "#funções específicas\n",
        "# cria a matriz bidimensional k\n",
        "k = np.array([[17,22,43],[27,25,14],[15,24,32]])\n",
        "# Mostra a matriz k\n",
        "print(k)\n",
        "# Mostra um elemento específico da matriz k\n",
        "print(k[0][1])\n",
        "# Mostra o tamanho das dimensões da matriz k\n",
        "print(k.shape)"
      ],
      "metadata": {
        "colab": {
          "base_uri": "https://localhost:8080/"
        },
        "id": "ptXRL8lFbyZD",
        "outputId": "3a302d02-5dd9-41e7-8c9f-9d8167bd8ead"
      },
      "execution_count": 13,
      "outputs": [
        {
          "output_type": "stream",
          "name": "stdout",
          "text": [
            "[[17 22 43]\n",
            " [27 25 14]\n",
            " [15 24 32]]\n",
            "22\n",
            "(3, 3)\n"
          ]
        }
      ]
    },
    {
      "cell_type": "code",
      "source": [
        "#Funções Matemáticas\n",
        "# Mostra o maior valor da matriz k\n",
        "print(k.max())\n",
        "# Mostra o menor valor da matriz k\n",
        "print(k.min())\n",
        "# Mostra a soma dos valores da matriz k\n",
        "print((k.sum()))\n",
        "# Mostra o valor da média dos valores da matriz k\n",
        "print(k.mean())\n",
        "# Mostra o valor do desvio padrão (standard deviation) dos valores da matiz k\n",
        "print(k.std())"
      ],
      "metadata": {
        "colab": {
          "base_uri": "https://localhost:8080/"
        },
        "id": "hRUiwK0ab4V1",
        "outputId": "679ac4ee-b90b-490b-99a5-2c20bfc59f14"
      },
      "execution_count": 14,
      "outputs": [
        {
          "output_type": "stream",
          "name": "stdout",
          "text": [
            "43\n",
            "14\n",
            "219\n",
            "24.333333333333332\n",
            "8.615231988880057\n"
          ]
        }
      ]
    },
    {
      "cell_type": "code",
      "source": [
        "#funções universais, aplicadas a todos os elementos\n",
        "# Mostra o valor da raiz quadrada de todos elementos\n",
        "k1 = np.array([1, 4, 9, 16, 25, 36])\n",
        "print(np.sqrt(k1))\n",
        "# Mostra o valor do exponencial de todos elementos\n",
        "print(np.exp(k1))"
      ],
      "metadata": {
        "colab": {
          "base_uri": "https://localhost:8080/"
        },
        "id": "dumhWfIpcEKJ",
        "outputId": "c6e15e5c-0485-4f5b-f6ff-2aab03f3b8f5"
      },
      "execution_count": 15,
      "outputs": [
        {
          "output_type": "stream",
          "name": "stdout",
          "text": [
            "[1. 2. 3. 4. 5. 6.]\n",
            "[2.71828183e+00 5.45981500e+01 8.10308393e+03 8.88611052e+06\n",
            " 7.20048993e+10 4.31123155e+15]\n"
          ]
        }
      ]
    },
    {
      "cell_type": "code",
      "source": [
        "#extração de elementos\n",
        "m = np.array([1, 2, 3, 4, 5, 6])\n",
        "# Mostra o elemento da posição 2\n",
        "print(m[1])\n",
        "print(\"-------\")\n",
        "# Mostra o array criado a partir da posição 0, dois elementos\n",
        "print(m[0:2])\n",
        "print(\"-------\")\n",
        "# Mostra o array criado a partir da 2a posição\n",
        "# até todo o restante do array\n",
        "print(m[1:])\n",
        "print(\"-------\")\n",
        "# Mostra o array criado a partir da antepenúltima\n",
        "#posição até o final\n",
        "print(m[-3:])"
      ],
      "metadata": {
        "colab": {
          "base_uri": "https://localhost:8080/"
        },
        "id": "VqOxsYXwcLIZ",
        "outputId": "ff121724-c0da-4e6f-9048-f228c42735b3"
      },
      "execution_count": 16,
      "outputs": [
        {
          "output_type": "stream",
          "name": "stdout",
          "text": [
            "2\n",
            "-------\n",
            "[1 2]\n",
            "-------\n",
            "[2 3 4 5 6]\n",
            "-------\n",
            "[4 5 6]\n"
          ]
        }
      ]
    },
    {
      "cell_type": "code",
      "source": [
        "#extração de linhas e colunas\n",
        "l = np.array([[4, 5], [6, 1], [7, 4]])\n",
        "print(l)\n",
        "print(\"-------\")\n",
        "#primeira linha, todas as colunas\n",
        "l_linha_1 = l[0, :]\n",
        "print(l_linha_1)\n",
        "print(\"-------\")\n",
        "#segunda linha\n",
        "l_linha_2 = l[1, :]\n",
        "print(l_linha_2)\n",
        "print(\"-------\")\n",
        "#terceira linha\n",
        "l_linha_3 = l[2, :]\n",
        "print(l_linha_3)\n",
        "print(\"-------\")\n",
        "#todas as linhas, primeira coluna\n",
        "l_coluna_1 = l[:, 0]\n",
        "print(l_coluna_1)\n",
        "print(\"-------\")\n",
        "#todas as linhas, segunda coluna\n",
        "l_coluna_2 = l[:, 1]\n",
        "print(l_coluna_2)"
      ],
      "metadata": {
        "colab": {
          "base_uri": "https://localhost:8080/"
        },
        "id": "xT3HV1OrcZI4",
        "outputId": "38c524c1-35ae-453f-92dd-74848133eda2"
      },
      "execution_count": 17,
      "outputs": [
        {
          "output_type": "stream",
          "name": "stdout",
          "text": [
            "[[4 5]\n",
            " [6 1]\n",
            " [7 4]]\n",
            "-------\n",
            "[4 5]\n",
            "-------\n",
            "[6 1]\n",
            "-------\n",
            "[7 4]\n",
            "-------\n",
            "[4 6 7]\n",
            "-------\n",
            "[5 1 4]\n"
          ]
        }
      ]
    },
    {
      "cell_type": "code",
      "source": [
        "#adição e multiplicação de matrizes\n",
        "n = np.array([[1, 2], [3, 4]])\n",
        "o = np.array([[1, 1], [1, 1]])\n",
        "res1 = n+o\n",
        "print(res1)\n",
        "print(\"-------\")\n",
        "res2 = n*o\n",
        "print(res2)\n",
        "print(\"-------\")\n",
        "p = np.array([[1, 2], [3, 4], [5, 6]])\n",
        "q = np.array([[2, 1]])\n",
        "print(p+q)"
      ],
      "metadata": {
        "colab": {
          "base_uri": "https://localhost:8080/"
        },
        "id": "htFFWciGcbzG",
        "outputId": "5ea95a68-1025-49c8-97e1-d70f11850f8d"
      },
      "execution_count": 18,
      "outputs": [
        {
          "output_type": "stream",
          "name": "stdout",
          "text": [
            "[[2 3]\n",
            " [4 5]]\n",
            "-------\n",
            "[[1 2]\n",
            " [3 4]]\n",
            "-------\n",
            "[[3 3]\n",
            " [5 5]\n",
            " [7 7]]\n"
          ]
        }
      ]
    },
    {
      "cell_type": "code",
      "source": [
        "# transposição, rearranja um conjunto de 15 elementos de 0 a 14\n",
        "# em 3 linhas e 5 colunas.\n",
        "f = np.arange(15).reshape((3, 5))\n",
        "# mostra a matrizes transposta entre linha e coluna\n",
        "print(f)\n",
        "print(\"-------\")\n",
        "s = f.T\n",
        "print(s)"
      ],
      "metadata": {
        "colab": {
          "base_uri": "https://localhost:8080/"
        },
        "id": "gxsEep8RchfK",
        "outputId": "90ebcdba-cc89-49e6-f175-fd6ae43b285c"
      },
      "execution_count": 19,
      "outputs": [
        {
          "output_type": "stream",
          "name": "stdout",
          "text": [
            "[[ 0  1  2  3  4]\n",
            " [ 5  6  7  8  9]\n",
            " [10 11 12 13 14]]\n",
            "-------\n",
            "[[ 0  5 10]\n",
            " [ 1  6 11]\n",
            " [ 2  7 12]\n",
            " [ 3  8 13]\n",
            " [ 4  9 14]]\n"
          ]
        }
      ]
    },
    {
      "cell_type": "code",
      "source": [
        "#outra forma de fazer, mesmo resultado\n",
        "r = np.arange(15).reshape((3, 5))\n",
        "print(r)\n",
        "print(\"-------\")\n",
        "# rearranja um conjunto de 15 elementos\n",
        "# mostra a matrizes transposta entre linha e coluna\n",
        "s = r.transpose((1,0))\n",
        "print(s)"
      ],
      "metadata": {
        "colab": {
          "base_uri": "https://localhost:8080/"
        },
        "id": "QgFidBaQcpkW",
        "outputId": "845cfec2-75c5-4796-a427-f6f56a597ac2"
      },
      "execution_count": 20,
      "outputs": [
        {
          "output_type": "stream",
          "name": "stdout",
          "text": [
            "[[ 0  1  2  3  4]\n",
            " [ 5  6  7  8  9]\n",
            " [10 11 12 13 14]]\n",
            "-------\n",
            "[[ 0  5 10]\n",
            " [ 1  6 11]\n",
            " [ 2  7 12]\n",
            " [ 3  8 13]\n",
            " [ 4  9 14]]\n"
          ]
        }
      ]
    },
    {
      "cell_type": "code",
      "source": [
        "#expressões lógicas\n",
        "#usando where\n",
        "# criando matriz com valores aleatórios positivos e negativos\n",
        "v = np.random.randn(4, 4)\n",
        "print(v)\n",
        "# criando matriz com valores booleanos baseado no array v\n",
        "x = (v > 0)\n",
        "print(x)\n",
        "# criando matriz com valores -1 e 1 baseado nos valores do array x\n",
        "z = np.where(x > 0, 1, -1)\n",
        "print(z)"
      ],
      "metadata": {
        "colab": {
          "base_uri": "https://localhost:8080/"
        },
        "id": "ny4n1E_8cus7",
        "outputId": "57237390-e1e4-463e-f8cb-b3c16a35a748"
      },
      "execution_count": 21,
      "outputs": [
        {
          "output_type": "stream",
          "name": "stdout",
          "text": [
            "[[ 1.47970925  0.129927   -0.9118592   1.65625288]\n",
            " [-1.48295802 -0.8203414  -1.17800428 -1.16848964]\n",
            " [-0.18709651  0.06310497 -1.2556393  -1.54945216]\n",
            " [ 2.25508098 -1.51030022 -0.6423002  -1.16174998]]\n",
            "[[ True  True False  True]\n",
            " [False False False False]\n",
            " [False  True False False]\n",
            " [ True False False False]]\n",
            "[[ 1  1 -1  1]\n",
            " [-1 -1 -1 -1]\n",
            " [-1  1 -1 -1]\n",
            " [ 1 -1 -1 -1]]\n"
          ]
        }
      ]
    }
  ]
}