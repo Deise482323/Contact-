{
  "nbformat": 4,
  "nbformat_minor": 0,
  "metadata": {
    "colab": {
      "provenance": [],
      "authorship_tag": "ABX9TyPZWk87GXVX4YxxTUrfHPO+",
      "include_colab_link": true
    },
    "kernelspec": {
      "name": "python3",
      "display_name": "Python 3"
    },
    "language_info": {
      "name": "python"
    }
  },
  "cells": [
    {
      "cell_type": "markdown",
      "metadata": {
        "id": "view-in-github",
        "colab_type": "text"
      },
      "source": [
        "<a href=\"https://colab.research.google.com/github/Deise482323/Contact-/blob/main/untitled1.ipynb\" target=\"_parent\"><img src=\"https://colab.research.google.com/assets/colab-badge.svg\" alt=\"Open In Colab\"/></a>"
      ]
    },
    {
      "cell_type": "code",
      "execution_count": null,
      "metadata": {
        "colab": {
          "base_uri": "https://localhost:8080/"
        },
        "id": "QO6zweJJ62jt",
        "outputId": "8ae78b4b-3523-4623-9a54-d1007821e615"
      },
      "outputs": [
        {
          "output_type": "stream",
          "name": "stdout",
          "text": [
            "1\n",
            "3.13\n",
            "Python\n",
            "False\n"
          ]
        }
      ],
      "source": [
        "#Variável do tipo inteiro\n",
        "x= 1\n",
        "print (x)\n",
        "#Variável do tipo float\n",
        "y = 3.13\n",
        "print (y)\n",
        "# Variável do tipo String\n",
        "m = 'Python'\n",
        "m = \"Python\"\n",
        "print (m)\n",
        "#Variável tipo lógica\n",
        "w = True\n",
        "y = False\n",
        "print (y)\n"
      ]
    },
    {
      "cell_type": "code",
      "source": [
        "# Calculadora\n",
        "x = 10\n",
        "y = 20\n",
        "z = 100\n",
        "w = (x + y) * z / 100\n",
        "print (w)"
      ],
      "metadata": {
        "colab": {
          "base_uri": "https://localhost:8080/"
        },
        "id": "OfNv3hxg8Fhk",
        "outputId": "5edfe21a-c7cb-4014-b9cf-5211628dcd54"
      },
      "execution_count": null,
      "outputs": [
        {
          "output_type": "stream",
          "name": "stdout",
          "text": [
            "30.0\n"
          ]
        }
      ]
    },
    {
      "cell_type": "code",
      "source": [
        "# Exibir textos no console\n",
        "print (\"Este texto será impresso no console\")\n",
        "print (x)\n",
        "print (\"Texto e duas variáveis:\",x,\",\",z)"
      ],
      "metadata": {
        "colab": {
          "base_uri": "https://localhost:8080/"
        },
        "id": "yg88GRZz84Y1",
        "outputId": "253e1c82-ed32-4530-f9a1-fb11d2d2dbdc"
      },
      "execution_count": null,
      "outputs": [
        {
          "output_type": "stream",
          "name": "stdout",
          "text": [
            "Este texto será impresso no console\n",
            "10\n",
            "Texto e duas variáveis: 10 , 100\n"
          ]
        }
      ]
    },
    {
      "cell_type": "code",
      "source": [
        "# Verificar tipo\n",
        "print (type(x))\n",
        "print (type(m))"
      ],
      "metadata": {
        "colab": {
          "base_uri": "https://localhost:8080/"
        },
        "id": "wTEre6yj9kBb",
        "outputId": "cab23732-b88d-4de3-bddb-2bcbe90306ba"
      },
      "execution_count": null,
      "outputs": [
        {
          "output_type": "stream",
          "name": "stdout",
          "text": [
            "<class 'int'>\n",
            "<class 'str'>\n"
          ]
        }
      ]
    },
    {
      "cell_type": "code",
      "source": [
        "# Entrada de dados\n",
        "print (\"Informe o valor:\")\n",
        "i = input()\n",
        "# Mostra tipo string\n",
        "print (type(i))"
      ],
      "metadata": {
        "colab": {
          "base_uri": "https://localhost:8080/"
        },
        "id": "9WV-iZohAn55",
        "outputId": "eb273cfb-7b1a-4dbd-e80a-617b13479242"
      },
      "execution_count": null,
      "outputs": [
        {
          "output_type": "stream",
          "name": "stdout",
          "text": [
            "Informe o valor:\n",
            "10\n",
            "<class 'str'>\n"
          ]
        }
      ]
    },
    {
      "cell_type": "code",
      "source": [
        "!git clone https://github.com/Deise482323/Python.git\n"
      ],
      "metadata": {
        "id": "DolsZ8vsBdZN",
        "colab": {
          "base_uri": "https://localhost:8080/"
        },
        "outputId": "7aa9faf7-cc50-41db-84d4-1993901e2d9e"
      },
      "execution_count": 1,
      "outputs": [
        {
          "output_type": "stream",
          "name": "stdout",
          "text": [
            "Cloning into 'Python'...\n",
            "warning: You appear to have cloned an empty repository.\n"
          ]
        }
      ]
    },
    {
      "cell_type": "code",
      "source": [
        "!mv /content/untitled1.ipynb /content/Python/\n"
      ],
      "metadata": {
        "colab": {
          "base_uri": "https://localhost:8080/"
        },
        "id": "rhRWfv4MPwGb",
        "outputId": "b99f5745-7aaf-425f-f078-5eae51c61595"
      },
      "execution_count": 2,
      "outputs": [
        {
          "output_type": "stream",
          "name": "stdout",
          "text": [
            "mv: cannot stat '/content/untitled1.ipynb': No such file or directory\n"
          ]
        }
      ]
    },
    {
      "cell_type": "code",
      "source": [
        "%cd /content/Python\n"
      ],
      "metadata": {
        "colab": {
          "base_uri": "https://localhost:8080/"
        },
        "id": "uIVmqu0IX2KX",
        "outputId": "0a85ed0e-a587-45a7-f69d-08cd5e42eee6"
      },
      "execution_count": 14,
      "outputs": [
        {
          "output_type": "stream",
          "name": "stdout",
          "text": [
            "/content/Python\n"
          ]
        }
      ]
    },
    {
      "cell_type": "code",
      "source": [
        "!ls -la\n"
      ],
      "metadata": {
        "colab": {
          "base_uri": "https://localhost:8080/"
        },
        "id": "sOG_aPpmX9Ad",
        "outputId": "57911fe6-d56b-4510-cbca-9b246ead6785"
      },
      "execution_count": 15,
      "outputs": [
        {
          "output_type": "stream",
          "name": "stdout",
          "text": [
            "total 12\n",
            "drwxr-xr-x 3 root root 4096 Jan 30 12:45 .\n",
            "drwxr-xr-x 1 root root 4096 Jan 30 12:45 ..\n",
            "drwxr-xr-x 7 root root 4096 Jan 30 13:20 .git\n"
          ]
        }
      ]
    },
    {
      "cell_type": "code",
      "source": [
        "!git add .\n"
      ],
      "metadata": {
        "id": "-JW2a-QDYBsu"
      },
      "execution_count": 16,
      "outputs": []
    },
    {
      "cell_type": "code",
      "source": [
        "!git commit -m \"Primeiro commit\"\n"
      ],
      "metadata": {
        "colab": {
          "base_uri": "https://localhost:8080/"
        },
        "id": "VXfVsKDyYF0n",
        "outputId": "7a9eb18a-7ce1-4def-aee5-037b4fd35c0f"
      },
      "execution_count": 17,
      "outputs": [
        {
          "output_type": "stream",
          "name": "stdout",
          "text": [
            "On branch main\n",
            "\n",
            "Initial commit\n",
            "\n",
            "nothing to commit (create/copy files and use \"git add\" to track)\n"
          ]
        }
      ]
    },
    {
      "cell_type": "code",
      "source": [
        "!git branch\n"
      ],
      "metadata": {
        "id": "F_B6hb6dYOLu"
      },
      "execution_count": 18,
      "outputs": []
    },
    {
      "cell_type": "code",
      "source": [
        "!git branch -M main\n"
      ],
      "metadata": {
        "id": "GizJATRNYPr2"
      },
      "execution_count": 19,
      "outputs": []
    },
    {
      "cell_type": "code",
      "source": [
        "!git config --global user.email \"deise0509@gmail.com\"\n",
        "!git config --global user.name \"Deise Santana\""
      ],
      "metadata": {
        "id": "QGfGW28YW9gX"
      },
      "execution_count": 12,
      "outputs": []
    },
    {
      "cell_type": "code",
      "source": [
        "!git config --global user.email \"deise0509@gmail.com\"\n",
        "!git config --global user.name \"Deise Santana\"\n"
      ],
      "metadata": {
        "id": "H7iqKQxyXdeo"
      },
      "execution_count": 11,
      "outputs": []
    },
    {
      "cell_type": "code",
      "source": [
        "nota = 7\n",
        "if nota >= 7:\n",
        "  print (\"Aprovado\")\n",
        "  print (\"Parabens!\")\n",
        "else:\n",
        "  print (\"Reprovado\")"
      ],
      "metadata": {
        "colab": {
          "base_uri": "https://localhost:8080/"
        },
        "id": "DaJRyOhJNlu7",
        "outputId": "98efe316-3e20-4b23-acc7-70153a0a6526"
      },
      "execution_count": 6,
      "outputs": [
        {
          "output_type": "stream",
          "name": "stdout",
          "text": [
            "Aprovado\n",
            "Parabens!\n"
          ]
        }
      ]
    },
    {
      "cell_type": "code",
      "source": [
        "nota = 5\n",
        "if nota >= 7:\n",
        "  print (\"Aprovado\")\n",
        "  print (\"Parabens!\")\n",
        "else:\n",
        "  print (\"Reprovado\")"
      ],
      "metadata": {
        "colab": {
          "base_uri": "https://localhost:8080/"
        },
        "id": "kxVbxMV0PVLu",
        "outputId": "874ea085-70af-4c12-8262-5eddc05fca02"
      },
      "execution_count": 7,
      "outputs": [
        {
          "output_type": "stream",
          "name": "stdout",
          "text": [
            "Reprovado\n"
          ]
        }
      ]
    },
    {
      "cell_type": "code",
      "source": [
        "nota = 7\n",
        "if nota <= 4:\n",
        "  print (\"Reprovado\")\n",
        "elif nota> 4 and nota <=6:\n",
        "  print (\"Exame!\")\n",
        "else:\n",
        "  print (\"Aprovado\")"
      ],
      "metadata": {
        "colab": {
          "base_uri": "https://localhost:8080/"
        },
        "id": "tmdt_O6bPem2",
        "outputId": "2da4c9bc-f50a-4a93-b00b-a6c71579fac7"
      },
      "execution_count": 8,
      "outputs": [
        {
          "output_type": "stream",
          "name": "stdout",
          "text": [
            "Aprovado\n"
          ]
        }
      ]
    },
    {
      "cell_type": "code",
      "source": [
        "# Exemplo com while\n",
        "\n",
        "count = 1\n",
        "while count <=5:\n",
        "  print (count)\n",
        "  count += 1"
      ],
      "metadata": {
        "colab": {
          "base_uri": "https://localhost:8080/"
        },
        "id": "b6X_6FcoQKiT",
        "outputId": "b45503f6-26ce-468d-e1a4-f8bd05774597"
      },
      "execution_count": 9,
      "outputs": [
        {
          "output_type": "stream",
          "name": "stdout",
          "text": [
            "1\n",
            "2\n",
            "3\n",
            "4\n",
            "5\n"
          ]
        }
      ]
    },
    {
      "cell_type": "code",
      "source": [
        "# range (0,10,1):\n",
        "# range (inicio, parada, incremento)\n",
        "# python ingnora o ultimo valor de intervalos\n",
        "# o incremento pode ser negativo\n",
        "\n",
        "# for normal:\n",
        "for n in range (0, 10):\n",
        "   print (n + 1)\n",
        "for n in range (1,11):\n",
        "    print (n)"
      ],
      "metadata": {
        "colab": {
          "base_uri": "https://localhost:8080/"
        },
        "id": "zMWNT9zrR2sf",
        "outputId": "58474086-d179-4419-8954-22eeafe6176c"
      },
      "execution_count": 16,
      "outputs": [
        {
          "output_type": "stream",
          "name": "stdout",
          "text": [
            "1\n",
            "2\n",
            "3\n",
            "4\n",
            "5\n",
            "6\n",
            "7\n",
            "8\n",
            "9\n",
            "10\n",
            "1\n",
            "2\n",
            "3\n",
            "4\n",
            "5\n",
            "6\n",
            "7\n",
            "8\n",
            "9\n",
            "10\n"
          ]
        }
      ]
    },
    {
      "cell_type": "code",
      "source": [
        "#Célula de código <undefined>\n",
        "# %% [code]\n",
        "#for decrecente\n",
        "for n in range(10, 0,-1):\n",
        "    print(n)"
      ],
      "metadata": {
        "colab": {
          "base_uri": "https://localhost:8080/"
        },
        "id": "kbHsK2e4TKgc",
        "outputId": "f2fd43a9-580a-4435-d071-d9fb6a1477bb"
      },
      "execution_count": 1,
      "outputs": [
        {
          "output_type": "stream",
          "name": "stdout",
          "text": [
            "10\n",
            "9\n",
            "8\n",
            "7\n",
            "6\n",
            "5\n",
            "4\n",
            "3\n",
            "2\n",
            "1\n"
          ]
        }
      ]
    },
    {
      "cell_type": "code",
      "source": [
        "#Célula de código <undefined>\n",
        "# %% [code]\n",
        "#exemplo com break\n",
        "#vai parar no 3 pois o break está antes do print\n",
        "for n in range(0, 10):\n",
        "    if n==4:\n",
        "        break\n",
        "    print(n)"
      ],
      "metadata": {
        "colab": {
          "base_uri": "https://localhost:8080/"
        },
        "id": "gIPcM5s1Wruq",
        "outputId": "5bd02ee9-b2bd-47d4-8726-e0788773c689"
      },
      "execution_count": 2,
      "outputs": [
        {
          "output_type": "stream",
          "name": "stdout",
          "text": [
            "0\n",
            "1\n",
            "2\n",
            "3\n"
          ]
        }
      ]
    },
    {
      "cell_type": "code",
      "source": [
        "#Célula de código <undefined>\n",
        "# %% [code]\n",
        "#exemplo com continue\n",
        "#vai pular o numero 4\n",
        "for n in range(0, 10):\n",
        "    if n==4:\n",
        "        continue\n",
        "    print(n)\n"
      ],
      "metadata": {
        "colab": {
          "base_uri": "https://localhost:8080/"
        },
        "id": "JjfZH1gfWu4s",
        "outputId": "815c976f-d186-4706-9e66-65f4c96a4d5d"
      },
      "execution_count": 3,
      "outputs": [
        {
          "output_type": "stream",
          "name": "stdout",
          "text": [
            "0\n",
            "1\n",
            "2\n",
            "3\n",
            "5\n",
            "6\n",
            "7\n",
            "8\n",
            "9\n"
          ]
        }
      ]
    },
    {
      "cell_type": "code",
      "source": [
        "#Célula de código <undefined>\n",
        "#%% [code]"
      ],
      "metadata": {
        "id": "Mbi8nlV1WxIW"
      },
      "execution_count": 4,
      "outputs": []
    },
    {
      "cell_type": "code",
      "source": [
        "#Célula de texto <undefined>\n",
        "#%% [markdown]\n",
        "#Formação Cientista de Dados - Prof. Fernando Amaral Listas\n",
        "\n",
        "#Célula de código <undefined>\n",
        "# %% [code]\n",
        "#formas de criar listas\n",
        "lst = [1,2,3,4,5]\n",
        "print(lst)"
      ],
      "metadata": {
        "colab": {
          "base_uri": "https://localhost:8080/"
        },
        "id": "RN0FIneoXRhL",
        "outputId": "29230c58-8542-4c6f-dff0-4fec642ba14e"
      },
      "execution_count": 6,
      "outputs": [
        {
          "output_type": "stream",
          "name": "stdout",
          "text": [
            "[1, 2, 3, 4, 5]\n"
          ]
        }
      ]
    },
    {
      "cell_type": "code",
      "source": [
        "#Célula de código <undefined>\n",
        "# %% [code]\n",
        "#vários tipos\n",
        "lst2 = [1,2,3,\"4\",True]\n",
        "print(lst2)\n"
      ],
      "metadata": {
        "colab": {
          "base_uri": "https://localhost:8080/"
        },
        "id": "P_NAt7iZZqTJ",
        "outputId": "b321b3ee-db24-4c0c-c654-50ffd62e9d57"
      },
      "execution_count": 7,
      "outputs": [
        {
          "output_type": "stream",
          "name": "stdout",
          "text": [
            "[1, 2, 3, '4', True]\n"
          ]
        }
      ]
    },
    {
      "cell_type": "code",
      "source": [
        "#Célula de código <undefined>\n",
        "# %% [code]\n",
        "#lista com lista\n",
        "lst3 = [12,[1,2,3,4,5],\"a\"]\n",
        "print(lst3)"
      ],
      "metadata": {
        "colab": {
          "base_uri": "https://localhost:8080/"
        },
        "id": "rZCJWPQFZxL1",
        "outputId": "54f05d99-b996-4dd6-ab0d-4845d517c1a5"
      },
      "execution_count": 8,
      "outputs": [
        {
          "output_type": "stream",
          "name": "stdout",
          "text": [
            "[12, [1, 2, 3, 4, 5], 'a']\n"
          ]
        }
      ]
    },
    {
      "cell_type": "code",
      "source": [
        "#Célula de código <undefined>\n",
        "# %% [code]\n",
        "#criando lista com range\n",
        "lst4 = list(range(0,10))\n",
        "print(lst4)"
      ],
      "metadata": {
        "colab": {
          "base_uri": "https://localhost:8080/"
        },
        "id": "bDCOrLl_Z0lI",
        "outputId": "18d3b2cf-ff24-4dfa-8824-fdcd3ca6491a"
      },
      "execution_count": 9,
      "outputs": [
        {
          "output_type": "stream",
          "name": "stdout",
          "text": [
            "[0, 1, 2, 3, 4, 5, 6, 7, 8, 9]\n"
          ]
        }
      ]
    },
    {
      "cell_type": "code",
      "source": [
        "#Célula de código <undefined>\n",
        "# %% [code]\n",
        "#comprimento da lista\n",
        "print(len(lst))\n"
      ],
      "metadata": {
        "colab": {
          "base_uri": "https://localhost:8080/"
        },
        "id": "KC7Qoux-Z4MD",
        "outputId": "ecadcadc-a1cc-4a35-aff6-3ea18ebeb5ac"
      },
      "execution_count": 10,
      "outputs": [
        {
          "output_type": "stream",
          "name": "stdout",
          "text": [
            "5\n"
          ]
        }
      ]
    },
    {
      "cell_type": "code",
      "source": [
        "#Célula de código <undefined>\n",
        "# %% [code]\n",
        "#acessando elemento\n",
        "print(lst[0])\n",
        "#posiçõo 1 é uma lista\n",
        "print(lst3[1])\n",
        "#alterando posição\n",
        "lst[0] = 4\n",
        "print(lst)"
      ],
      "metadata": {
        "colab": {
          "base_uri": "https://localhost:8080/"
        },
        "id": "CvnI96YqZ7Al",
        "outputId": "9af7262e-cb51-4592-8a07-a6942bfe1927"
      },
      "execution_count": 11,
      "outputs": [
        {
          "output_type": "stream",
          "name": "stdout",
          "text": [
            "1\n",
            "[1, 2, 3, 4, 5]\n",
            "[4, 2, 3, 4, 5]\n"
          ]
        }
      ]
    },
    {
      "cell_type": "code",
      "source": [
        "#Célula de código <undefined>\n",
        "# %% [code]\n",
        "#percorrendo lista\n",
        "for n in range(0, len(lst4)):\n",
        "    print(lst4[n]+1)\n",
        "\n",
        "#Célula de código <undefined>\n",
        "# %% [code]\n"
      ],
      "metadata": {
        "colab": {
          "base_uri": "https://localhost:8080/"
        },
        "id": "YTCwdtUgZ-Uj",
        "outputId": "3541c5ba-ce30-4280-c8c3-f5ca3f19dc1d"
      },
      "execution_count": 12,
      "outputs": [
        {
          "output_type": "stream",
          "name": "stdout",
          "text": [
            "1\n",
            "2\n",
            "3\n",
            "4\n",
            "5\n",
            "6\n",
            "7\n",
            "8\n",
            "9\n",
            "10\n"
          ]
        }
      ]
    },
    {
      "cell_type": "code",
      "source": [
        "#Célula de código <undefined>\n",
        "# %% [code]\n",
        "#percorrendo lista\n",
        "for n in range(0, len(lst4)):\n",
        "    print(lst4[n]+1)\n",
        "\n",
        "#Célula de código <undefined>\n",
        "# %% [code]\n"
      ],
      "metadata": {
        "colab": {
          "base_uri": "https://localhost:8080/"
        },
        "id": "gyTBM5I8dmoR",
        "outputId": "c4ef2d1e-a7af-4848-8330-71d5c9f154d7"
      },
      "execution_count": 13,
      "outputs": [
        {
          "output_type": "stream",
          "name": "stdout",
          "text": [
            "1\n",
            "2\n",
            "3\n",
            "4\n",
            "5\n",
            "6\n",
            "7\n",
            "8\n",
            "9\n",
            "10\n"
          ]
        }
      ]
    },
    {
      "cell_type": "code",
      "source": [
        "#Célula de código <QXI-bzfvcko9>\n",
        "# %% [code]\n",
        "#dicionários: estrutura chave/valor\n",
        "Notas = {'João': 6.0, 'Maria': 8.0, 'Pedro': 6.5}\n"
      ],
      "metadata": {
        "id": "ZMczIw6hdqkl"
      },
      "execution_count": 21,
      "outputs": []
    },
    {
      "cell_type": "code",
      "source": [
        "#Célula de código <QXI-bzfvcko9>\n",
        "# %% [code]\n",
        "#dicionários: estrutura chave/valor\n",
        "Notas = {'João': 6.0, 'Maria': 8.0, 'Pedro': 6.5}\n",
        "print(Notas)"
      ],
      "metadata": {
        "colab": {
          "base_uri": "https://localhost:8080/"
        },
        "id": "jgIOM28Dpyrp",
        "outputId": "710e7eaa-e094-45ed-9da6-6e13b217fb16"
      },
      "execution_count": 20,
      "outputs": [
        {
          "output_type": "stream",
          "name": "stdout",
          "text": [
            "{'João': 6.0, 'Maria': 8.0, 'Pedro': 6.5}\n"
          ]
        }
      ]
    },
    {
      "cell_type": "code",
      "source": [
        "#Célula de código <4nAIdxOcc8ya>\n",
        "# %% [code]\n",
        "print(Notas['João'])\n"
      ],
      "metadata": {
        "colab": {
          "base_uri": "https://localhost:8080/"
        },
        "id": "KJRv3E_3d1Di",
        "outputId": "d17552e9-65a9-4673-a463-4967002ab4e5"
      },
      "execution_count": 22,
      "outputs": [
        {
          "output_type": "stream",
          "name": "stdout",
          "text": [
            "6.0\n"
          ]
        }
      ]
    },
    {
      "cell_type": "code",
      "source": [
        "#Célula de código <jUhrWDmFdH9R>\n",
        "# %% [code]\n",
        "#Todasd as chaves\n",
        "Notas.keys()"
      ],
      "metadata": {
        "colab": {
          "base_uri": "https://localhost:8080/"
        },
        "id": "kmsbok2jd63b",
        "outputId": "4ee85ec5-e8e8-421b-a697-e7fb964234cf"
      },
      "execution_count": 23,
      "outputs": [
        {
          "output_type": "execute_result",
          "data": {
            "text/plain": [
              "dict_keys(['João', 'Maria', 'Pedro'])"
            ]
          },
          "metadata": {},
          "execution_count": 23
        }
      ]
    },
    {
      "cell_type": "code",
      "source": [
        "#Célula de código <fYGMVl6MdS6z>\n",
        "# %% [code]\n",
        "#todos os valores\n",
        "Notas.values()"
      ],
      "metadata": {
        "colab": {
          "base_uri": "https://localhost:8080/"
        },
        "id": "8azwICadeDKg",
        "outputId": "d3087fb9-b5a6-4ce8-c9ff-24b139dfb9bd"
      },
      "execution_count": 24,
      "outputs": [
        {
          "output_type": "execute_result",
          "data": {
            "text/plain": [
              "dict_values([6.0, 8.0, 6.5])"
            ]
          },
          "metadata": {},
          "execution_count": 24
        }
      ]
    },
    {
      "cell_type": "code",
      "source": [
        "#Célula de código <DjBy4ZvsdX2a>\n",
        "# %% [code]\n",
        "#Testa logicamente a existência\n",
        "print('João' in Notas)\n",
        "print('Fernando' in Notas)"
      ],
      "metadata": {
        "colab": {
          "base_uri": "https://localhost:8080/"
        },
        "id": "Cyo11w5PeKTn",
        "outputId": "d56be876-2993-47de-fa1f-716f9eb99f78"
      },
      "execution_count": 25,
      "outputs": [
        {
          "output_type": "stream",
          "name": "stdout",
          "text": [
            "True\n",
            "False\n"
          ]
        }
      ]
    },
    {
      "cell_type": "code",
      "source": [
        "#Célula de código <hmx--lsNdgkj>\n",
        "# %% [code]\n",
        "#apaga um elemento\n",
        "del Notas['João']\n",
        "print(Notas)"
      ],
      "metadata": {
        "colab": {
          "base_uri": "https://localhost:8080/"
        },
        "id": "f89zj-yBeSYb",
        "outputId": "ebdb6e8c-25ae-4963-db2d-538eb8cf640b"
      },
      "execution_count": 26,
      "outputs": [
        {
          "output_type": "stream",
          "name": "stdout",
          "text": [
            "{'Maria': 8.0, 'Pedro': 6.5}\n"
          ]
        }
      ]
    },
    {
      "cell_type": "code",
      "source": [
        "#Célula de código <suEjj2tWdqfB>\n",
        "# %% [code]\n",
        "#inclui um elemento\n",
        "Notas['Ana'] = 9\n",
        "print(Notas)"
      ],
      "metadata": {
        "colab": {
          "base_uri": "https://localhost:8080/"
        },
        "id": "YK9ay7a0eW1K",
        "outputId": "5d724f7b-7a1d-4276-c17a-7c6da2e24063"
      },
      "execution_count": 27,
      "outputs": [
        {
          "output_type": "stream",
          "name": "stdout",
          "text": [
            "{'Maria': 8.0, 'Pedro': 6.5, 'Ana': 9}\n"
          ]
        }
      ]
    },
    {
      "cell_type": "code",
      "source": [
        "#Célula de código <yu483JMyd5yz>\n",
        "# %% [code]\n",
        "#busca um valor, se não encontrar mostra segundo parametro\n",
        "Notas.get('Geraldo',\"Não encontrado!\")"
      ],
      "metadata": {
        "colab": {
          "base_uri": "https://localhost:8080/",
          "height": 35
        },
        "id": "efTLmg2SeaXk",
        "outputId": "c2ca9bbf-451c-425f-bfb3-0f0fb5aa3556"
      },
      "execution_count": 28,
      "outputs": [
        {
          "output_type": "execute_result",
          "data": {
            "text/plain": [
              "'Não encontrado!'"
            ],
            "application/vnd.google.colaboratory.intrinsic+json": {
              "type": "string"
            }
          },
          "metadata": {},
          "execution_count": 28
        }
      ]
    },
    {
      "cell_type": "code",
      "source": [
        "#Célula de código <GafhrtB2eJd7>\n",
        "# %% [code]\n",
        "#sets são conjuntos não ordenados de elementos não repetidos\n",
        "bigdata = {'Spark', 'Hive', \"Sqoop\"}\n",
        "print(bigdata)"
      ],
      "metadata": {
        "colab": {
          "base_uri": "https://localhost:8080/"
        },
        "id": "XYov8qbdeeT7",
        "outputId": "9517834e-f601-495c-c574-f1b9947b307c"
      },
      "execution_count": 29,
      "outputs": [
        {
          "output_type": "stream",
          "name": "stdout",
          "text": [
            "{'Sqoop', 'Hive', 'Spark'}\n"
          ]
        }
      ]
    },
    {
      "cell_type": "code",
      "source": [
        "#Célula de código <WcW3f5nzeaCC>\n",
        "# %% [code]\n",
        "#verifica existência\n",
        "print('Spark' in bigdata)"
      ],
      "metadata": {
        "colab": {
          "base_uri": "https://localhost:8080/"
        },
        "id": "4SF8VaMTehom",
        "outputId": "acfadfcb-d0d9-4f06-a8a7-bbbdb10d0793"
      },
      "execution_count": 30,
      "outputs": [
        {
          "output_type": "stream",
          "name": "stdout",
          "text": [
            "True\n"
          ]
        }
      ]
    },
    {
      "cell_type": "code",
      "source": [
        "#Célula de código <qJw0n8SOfCEL>\n",
        "# %% [code]\n",
        "#adiciona elemento\n",
        "bigdata.add('Hadoop')\n",
        "bigdata"
      ],
      "metadata": {
        "colab": {
          "base_uri": "https://localhost:8080/"
        },
        "id": "Awq9aRQ1elnv",
        "outputId": "485fd929-a5b9-429a-c599-b8c8a0e6015b"
      },
      "execution_count": 31,
      "outputs": [
        {
          "output_type": "execute_result",
          "data": {
            "text/plain": [
              "{'Hadoop', 'Hive', 'Spark', 'Sqoop'}"
            ]
          },
          "metadata": {},
          "execution_count": 31
        }
      ]
    },
    {
      "cell_type": "code",
      "source": [
        "#Célula de código <78RiSwRNflhb>\n",
        "# %% [code]\n",
        "#tuplas são listas que não podem ser alteradas\n",
        "#listas usam [], tuplas usam ()\n",
        "tupla = (1,2,3,4,5,6,7)\n",
        "tupla"
      ],
      "metadata": {
        "colab": {
          "base_uri": "https://localhost:8080/"
        },
        "id": "lTFT1UGAesxU",
        "outputId": "cbc086d1-d413-4619-91af-b95d2d1bd603"
      },
      "execution_count": 32,
      "outputs": [
        {
          "output_type": "execute_result",
          "data": {
            "text/plain": [
              "(1, 2, 3, 4, 5, 6, 7)"
            ]
          },
          "metadata": {},
          "execution_count": 32
        }
      ]
    },
    {
      "cell_type": "code",
      "source": [
        "#Célula de código <CPcpjOVEf1GK>\n",
        "# %% [code]\n",
        "tupla[4]"
      ],
      "metadata": {
        "colab": {
          "base_uri": "https://localhost:8080/"
        },
        "id": "FxdU1vnhewAi",
        "outputId": "aedbe049-a02e-4c3a-bbc9-c706e99dc838"
      },
      "execution_count": 33,
      "outputs": [
        {
          "output_type": "execute_result",
          "data": {
            "text/plain": [
              "5"
            ]
          },
          "metadata": {},
          "execution_count": 33
        }
      ]
    },
    {
      "cell_type": "code",
      "source": [
        "#Célula de código <p4IQaJDof3fS>\n",
        "# %% [code]\n",
        "#dicionários em que cada posição recebe uma tupla\n",
        "dic2 = {(0, 1): 0, (1, 2): 1, (2, 3): 2, (3, 4): 3, (4, 5): 4,(5, 6): 5, (6, 7): 6, (7, 8): 7, (8, 9): 8, (9, 10): 9}\n",
        "dic2"
      ],
      "metadata": {
        "colab": {
          "base_uri": "https://localhost:8080/"
        },
        "id": "TSSs3sgzez-S",
        "outputId": "6819d507-203b-4f52-ceba-77b3619abeaf"
      },
      "execution_count": 34,
      "outputs": [
        {
          "output_type": "execute_result",
          "data": {
            "text/plain": [
              "{(0, 1): 0,\n",
              " (1, 2): 1,\n",
              " (2, 3): 2,\n",
              " (3, 4): 3,\n",
              " (4, 5): 4,\n",
              " (5, 6): 5,\n",
              " (6, 7): 6,\n",
              " (7, 8): 7,\n",
              " (8, 9): 8,\n",
              " (9, 10): 9}"
            ]
          },
          "metadata": {},
          "execution_count": 34
        }
      ]
    },
    {
      "cell_type": "code",
      "source": [
        "#Célula de código <8fWW_G06hUUc>\n",
        "# %% [code]\n",
        "print(type(Notas))\n",
        "print(type(bigdata))\n",
        "print(type(tupla))"
      ],
      "metadata": {
        "colab": {
          "base_uri": "https://localhost:8080/"
        },
        "id": "MBNGq4yUe33d",
        "outputId": "3b5da136-ed3b-47a1-c6d4-2a3676047bef"
      },
      "execution_count": 35,
      "outputs": [
        {
          "output_type": "stream",
          "name": "stdout",
          "text": [
            "<class 'dict'>\n",
            "<class 'set'>\n",
            "<class 'tuple'>\n"
          ]
        }
      ]
    }
  ]
}